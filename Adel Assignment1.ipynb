{
 "cells": [
  {
   "cell_type": "code",
   "execution_count": 1,
   "id": "7498a737-2bf4-4cb9-834b-98dce390a5c2",
   "metadata": {},
   "outputs": [
    {
     "name": "stdout",
     "output_type": "stream",
     "text": [
      "Assignment 1: Solutions by Adel Baabbad\n",
      "Local Time: 2024-05-13 03:45:25\n",
      "Computer ID: DESKTOP-8LFD6EA\n"
     ]
    }
   ],
   "source": [
    "import datetime\n",
    "import socket\n",
    "\n",
    "# Get local time\n",
    "local_time = datetime.datetime.now().strftime(\"%Y-%m-%d %H:%M:%S\")\n",
    "\n",
    "# Get computer ID or hostname\n",
    "computer_id = socket.gethostname()\n",
    "\n",
    "# Print output with local time and computer ID\n",
    "print('Assignment 1: Solutions by Adel Baabbad') # Please change your name here\n",
    "print('Local Time:', local_time)\n",
    "print('Computer ID:', computer_id)"
   ]
  },
  {
   "cell_type": "code",
   "execution_count": 14,
   "id": "68d69fc9-c6d0-4d1e-af07-b01af8b8a0a1",
   "metadata": {},
   "outputs": [],
   "source": [
    "# Import Libraries Pandas, NumPy, Geopandas, Matplotlib, Seaborn\n",
    "import pandas as pd\n",
    "import numpy as np\n",
    "#import geopandas as gpd # GIS\n",
    "import seaborn as sb # Parof of matplotlib for Data Viz\n",
    "import matplotlib.pyplot as plt # plotting data"
   ]
  },
  {
   "cell_type": "code",
   "execution_count": 12,
   "id": "830a8bf0-80cb-42e3-a5dd-0c10f27a7e9f",
   "metadata": {},
   "outputs": [],
   "source": [
    "## Your code down ##\n",
    "file_path = \"C:\\\\Users\\\\baabb\\\\OneDrive\\\\Documents\\\\Palette_Skils\\\\Stream-3\\\\Assignment_1\\\\\"\n",
    "## Your code write up##"
   ]
  },
  {
   "cell_type": "code",
   "execution_count": 6,
   "id": "d33d6087-aa26-49a8-b96f-294909813ee9",
   "metadata": {},
   "outputs": [],
   "source": [
    "# Read datasets I have shared in Slack Channel\n",
    "df_1=pd.read_csv(file_path + 'df_1.csv')\n",
    "df_2=pd.read_csv(file_path + 'df_2.csv')"
   ]
  },
  {
   "cell_type": "code",
   "execution_count": 7,
   "id": "6296654c-2a58-4dde-9d62-76eafaf1da3b",
   "metadata": {},
   "outputs": [
    {
     "name": "stdout",
     "output_type": "stream",
     "text": [
      "<class 'pandas.core.frame.DataFrame'>\n",
      "RangeIndex: 502 entries, 0 to 501\n",
      "Data columns (total 1 columns):\n",
      " #   Column  Non-Null Count  Dtype \n",
      "---  ------  --------------  ----- \n",
      " 0   RM      502 non-null    object\n",
      "dtypes: object(1)\n",
      "memory usage: 4.1+ KB\n",
      "None\n"
     ]
    }
   ],
   "source": [
    "#Remove rows that contain empty cells\n",
    "df_1_clean = df_1.dropna()\n",
    "df_2_clean = df_2.dropna()\n",
    "\n",
    "# Capitalize and remove empty spaces from front and end.\n",
    "df_1_clean['RM'] = df_1_clean['RM'].astype('str').str.capitalize().str.strip()\n",
    "df_2_clean['RM'] = df_2_clean['RM'].astype('str').str.capitalize().str.strip()\n",
    "\n",
    "# Remove duplicates\n",
    "df_1_clean.drop_duplicates(subset=['RM'],keep='first', inplace=True)\n",
    "df_2_clean.drop_duplicates(subset=['RM'],keep='first', inplace=True)\n",
    "\n",
    "# Merge two clean data files\n",
    "df_final = pd.merge(df_1_clean, df_2_clean,how='outer')\n",
    "\n",
    "# Print merge dataframe\n",
    "print(df_final.info())"
   ]
  },
  {
   "cell_type": "code",
   "execution_count": 9,
   "id": "f54e9c5b-a5be-4ea3-97fb-38a9ab349520",
   "metadata": {},
   "outputs": [
    {
     "ename": "NameError",
     "evalue": "name 'gpd' is not defined",
     "output_type": "error",
     "traceback": [
      "\u001b[1;31m---------------------------------------------------------------------------\u001b[0m",
      "\u001b[1;31mNameError\u001b[0m                                 Traceback (most recent call last)",
      "Cell \u001b[1;32mIn[9], line 3\u001b[0m\n\u001b[0;32m      1\u001b[0m \u001b[38;5;66;03m# Reading GIS\u001b[39;00m\n\u001b[0;32m      2\u001b[0m dir_GIS \u001b[38;5;241m=\u001b[39m \u001b[38;5;124m\"\u001b[39m\u001b[38;5;124mC:\u001b[39m\u001b[38;5;130;01m\\\\\u001b[39;00m\u001b[38;5;124mUsers\u001b[39m\u001b[38;5;130;01m\\\\\u001b[39;00m\u001b[38;5;124mbaabb\u001b[39m\u001b[38;5;130;01m\\\\\u001b[39;00m\u001b[38;5;124mOneDrive\u001b[39m\u001b[38;5;130;01m\\\\\u001b[39;00m\u001b[38;5;124mDocuments\u001b[39m\u001b[38;5;130;01m\\\\\u001b[39;00m\u001b[38;5;124mPalette_Skils\u001b[39m\u001b[38;5;130;01m\\\\\u001b[39;00m\u001b[38;5;124mStream-3\u001b[39m\u001b[38;5;130;01m\\\\\u001b[39;00m\u001b[38;5;124mAssignment_1\u001b[39m\u001b[38;5;130;01m\\\\\u001b[39;00m\u001b[38;5;124mRM_shapefile\u001b[39m\u001b[38;5;130;01m\\\\\u001b[39;00m\u001b[38;5;124m\"\u001b[39m\n\u001b[1;32m----> 3\u001b[0m gdf_rm\u001b[38;5;241m=\u001b[39mgpd\u001b[38;5;241m.\u001b[39mread_file(dir_GIS \u001b[38;5;241m+\u001b[39m \u001b[38;5;124m'\u001b[39m\u001b[38;5;124mRuralMunicipality.shp\u001b[39m\u001b[38;5;124m'\u001b[39m)\n\u001b[0;32m      4\u001b[0m \u001b[38;5;66;03m# Selecting geometry data\u001b[39;00m\n\u001b[0;32m      5\u001b[0m gdf_rm_clean\u001b[38;5;241m=\u001b[39mgdf_rm[[\u001b[38;5;124m'\u001b[39m\u001b[38;5;124mRMNO\u001b[39m\u001b[38;5;124m'\u001b[39m, \u001b[38;5;124m'\u001b[39m\u001b[38;5;124mRMNM\u001b[39m\u001b[38;5;124m'\u001b[39m, \u001b[38;5;124m'\u001b[39m\u001b[38;5;124mgeometry\u001b[39m\u001b[38;5;124m'\u001b[39m]]\n",
      "\u001b[1;31mNameError\u001b[0m: name 'gpd' is not defined"
     ]
    }
   ],
   "source": [
    "# Reading GIS\n",
    "dir_GIS = \"C:\\\\Users\\\\baabb\\\\OneDrive\\\\Documents\\\\Palette_Skils\\\\Stream-3\\\\Assignment_1\\\\RM_shapefile\\\\\"\n",
    "gdf_rm=gpd.read_file(dir_GIS + 'RuralMunicipality.shp')\n",
    "# Selecting geometry data\n",
    "gdf_rm_clean=gdf_rm[['RMNO', 'RMNM', 'geometry']]\n",
    "gdf_rm_clean=gdf_rm_clean.to_crs(4326)\n",
    "# Converting RMNO column type to String\n",
    "gdf_rm_clean['RMNO']=gdf_rm_clean['RMNO'].astype('int').astype('str').str.strip()\n",
    "                     \n",
    "gdf_rm_final=pd.merge(gdf_rm_clean.rename(columns={'RMNO':'RM'}), df_final, on='RM',how='inner')\n",
    "print(gdf_rm_final.info())\n",
    "\n",
    "# Creating the map\n",
    "gdf_rm_final.plot(figsize=[10,10],edgecolor='black')\n",
    "plt.title('Saskatchewan RM map', color='teal', size=24)\n",
    "plt.tick_params(top=False, bottom=False, left=False, right=False,labelleft=False, labelbottom=False)\n",
    "plt.show()"
   ]
  },
  {
   "cell_type": "code",
   "execution_count": 13,
   "id": "a533e5bc-0b0a-49c8-b56a-933704294927",
   "metadata": {},
   "outputs": [
    {
     "name": "stdout",
     "output_type": "stream",
     "text": [
      "Python Version: 3.11.7 | packaged by Anaconda, Inc. | (main, Dec 15 2023, 18:05:47) [MSC v.1916 64 bit (AMD64)]\n",
      "Python Executable: C:\\Users\\baabb\\anaconda3\\python.exe\n"
     ]
    },
    {
     "ename": "ModuleNotFoundError",
     "evalue": "No module named 'geopandas'",
     "output_type": "error",
     "traceback": [
      "\u001b[1;31m---------------------------------------------------------------------------\u001b[0m",
      "\u001b[1;31mModuleNotFoundError\u001b[0m                       Traceback (most recent call last)",
      "Cell \u001b[1;32mIn[13], line 5\u001b[0m\n\u001b[0;32m      2\u001b[0m \u001b[38;5;28mprint\u001b[39m(\u001b[38;5;124m\"\u001b[39m\u001b[38;5;124mPython Version:\u001b[39m\u001b[38;5;124m\"\u001b[39m, sys\u001b[38;5;241m.\u001b[39mversion)\n\u001b[0;32m      3\u001b[0m \u001b[38;5;28mprint\u001b[39m(\u001b[38;5;124m\"\u001b[39m\u001b[38;5;124mPython Executable:\u001b[39m\u001b[38;5;124m\"\u001b[39m, sys\u001b[38;5;241m.\u001b[39mexecutable)\n\u001b[1;32m----> 5\u001b[0m \u001b[38;5;28;01mimport\u001b[39;00m \u001b[38;5;21;01mgeopandas\u001b[39;00m \u001b[38;5;28;01mas\u001b[39;00m \u001b[38;5;21;01mgpd\u001b[39;00m\n\u001b[0;32m      6\u001b[0m \u001b[38;5;28mprint\u001b[39m(\u001b[38;5;124m\"\u001b[39m\u001b[38;5;124mGeopandas imported successfully!\u001b[39m\u001b[38;5;124m\"\u001b[39m)\n",
      "\u001b[1;31mModuleNotFoundError\u001b[0m: No module named 'geopandas'"
     ]
    }
   ],
   "source": [
    "import sys\n",
    "print(\"Python Version:\", sys.version)\n",
    "print(\"Python Executable:\", sys.executable)\n",
    "\n",
    "import geopandas as gpd\n",
    "print(\"Geopandas imported successfully!\")\n"
   ]
  },
  {
   "cell_type": "code",
   "execution_count": null,
   "id": "64612342-9d79-465e-87bc-8b9c9337e558",
   "metadata": {},
   "outputs": [],
   "source": []
  }
 ],
 "metadata": {
  "kernelspec": {
   "display_name": "Python 3 (ipykernel)",
   "language": "python",
   "name": "python3"
  },
  "language_info": {
   "codemirror_mode": {
    "name": "ipython",
    "version": 3
   },
   "file_extension": ".py",
   "mimetype": "text/x-python",
   "name": "python",
   "nbconvert_exporter": "python",
   "pygments_lexer": "ipython3",
   "version": "3.11.7"
  }
 },
 "nbformat": 4,
 "nbformat_minor": 5
}
